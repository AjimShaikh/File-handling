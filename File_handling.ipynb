{
 "cells": [
  {
   "cell_type": "code",
   "execution_count": 33,
   "id": "ab31c4f2",
   "metadata": {},
   "outputs": [],
   "source": [
    "f = open(\"File_data.txt\",'r')"
   ]
  },
  {
   "cell_type": "code",
   "execution_count": 20,
   "id": "4bb31a29",
   "metadata": {},
   "outputs": [
    {
     "data": {
      "text/plain": [
       "'Hello Word\\n'"
      ]
     },
     "execution_count": 20,
     "metadata": {},
     "output_type": "execute_result"
    }
   ],
   "source": [
    "f.readline()"
   ]
  },
  {
   "cell_type": "code",
   "execution_count": 34,
   "id": "10d8665a",
   "metadata": {},
   "outputs": [
    {
     "name": "stdout",
     "output_type": "stream",
     "text": [
      "Hello Word\n",
      "\n"
     ]
    }
   ],
   "source": [
    "print(f.readline())  "
   ]
  },
  {
   "cell_type": "code",
   "execution_count": 35,
   "id": "2afe5623",
   "metadata": {},
   "outputs": [
    {
     "name": "stdout",
     "output_type": "stream",
     "text": [
      "My name is john\n",
      "\n"
     ]
    }
   ],
   "source": [
    "print(f.readline())   #cursor is end of first line"
   ]
  },
  {
   "cell_type": "code",
   "execution_count": 36,
   "id": "cddf14b6",
   "metadata": {},
   "outputs": [
    {
     "name": "stdout",
     "output_type": "stream",
     "text": [
      "I am a 25 years Old\n",
      "\n"
     ]
    }
   ],
   "source": [
    "print(f.readline())   #cursor is end of Second line"
   ]
  },
  {
   "cell_type": "code",
   "execution_count": 37,
   "id": "71c0a772",
   "metadata": {},
   "outputs": [
    {
     "name": "stdout",
     "output_type": "stream",
     "text": [
      "I am working as Ds\n"
     ]
    }
   ],
   "source": [
    "print(f.readline())     #cursor is third  line"
   ]
  },
  {
   "cell_type": "code",
   "execution_count": 38,
   "id": "aaf3342f",
   "metadata": {},
   "outputs": [
    {
     "name": "stdout",
     "output_type": "stream",
     "text": [
      "\n"
     ]
    }
   ],
   "source": [
    "print(f.readline())   #cursor is end so dont print content"
   ]
  },
  {
   "cell_type": "code",
   "execution_count": 39,
   "id": "20866ead",
   "metadata": {},
   "outputs": [],
   "source": [
    "f.close()"
   ]
  },
  {
   "cell_type": "code",
   "execution_count": 86,
   "id": "0adc3b29",
   "metadata": {},
   "outputs": [],
   "source": [
    "f=open('file_data.txt')\n",
    "data=f.read()"
   ]
  },
  {
   "cell_type": "code",
   "execution_count": 87,
   "id": "13bb69e4",
   "metadata": {},
   "outputs": [
    {
     "name": "stdout",
     "output_type": "stream",
     "text": [
      "The main palace was constructed using wood, of which only the base pillars remain. The main fort ruins consist of the queen's quarters, six chambers, with each chamber having its own private restroom. The chambers do not have any windows. In addition, ruins of three watch towers can be seen directly in front of the palace grounds out of which only two remain as the third one was destroyed during a bombardment. The Raigad Fort also has ruins of a market which was accessible to horseback riders. The fort also overlooks an artificial lake known as the Ganga Sagar Lake.[3]\n",
      "\n",
      "The only main pathway to the fort passes through the \"Maha Darwaja\" (Huge Door) which was previously closed at sunset. The Maha Darwaja has two huge bastions on both sides of the door which are approximately 65â€“70 feet in height. The top of the fort is 600 ft above this door.\n",
      "\n",
      "The king's court, inside the Raigad Fort has a replica of the original throne that faces the main doorway called the Nagarkhana Darwaja. It was here where Chh. Shivaji Maharaj's Rajyabhishek took place. This enclosure had been acoustically designed to aid hearing from the doorway to the throne. A secondary entrance, called the Mena Darwaja, was supposedly the private entrance for the royal ladies of the fort that lead to the queen's quarters. The convoy of the king and the king himself used the Palkhi Darwaja. To the right of Palkhi Darwaja, is a row of three dark and deep chambers. Historians believe that these were the granaries for the fort.[4]\n",
      "\n",
      "From the fort, one can view the execution point called Takmak Tok, a cliff from which sentenced prisoners were thrown to their death. This area has been fenced off.[5] \n"
     ]
    }
   ],
   "source": [
    "print(data)"
   ]
  },
  {
   "cell_type": "code",
   "execution_count": 67,
   "id": "ec73c5c0",
   "metadata": {},
   "outputs": [],
   "source": [
    "#Count of 'the' in file"
   ]
  },
  {
   "cell_type": "code",
   "execution_count": 88,
   "id": "e055b2ba",
   "metadata": {},
   "outputs": [
    {
     "data": {
      "text/plain": [
       "str"
      ]
     },
     "execution_count": 88,
     "metadata": {},
     "output_type": "execute_result"
    }
   ],
   "source": [
    "type(data)"
   ]
  },
  {
   "cell_type": "code",
   "execution_count": 90,
   "id": "755a11e5",
   "metadata": {},
   "outputs": [
    {
     "data": {
      "text/plain": [
       "30"
      ]
     },
     "execution_count": 90,
     "metadata": {},
     "output_type": "execute_result"
    }
   ],
   "source": [
    "data.count(\"the\")"
   ]
  },
  {
   "cell_type": "code",
   "execution_count": null,
   "id": "598adacf",
   "metadata": {},
   "outputs": [],
   "source": []
  },
  {
   "cell_type": "code",
   "execution_count": 91,
   "id": "1d831852",
   "metadata": {},
   "outputs": [],
   "source": [
    "#Create a file "
   ]
  },
  {
   "cell_type": "code",
   "execution_count": 92,
   "id": "214a9ded",
   "metadata": {},
   "outputs": [],
   "source": [
    "f = open(\"file_new.txt\",'w')"
   ]
  },
  {
   "cell_type": "code",
   "execution_count": 93,
   "id": "c9c5a06d",
   "metadata": {},
   "outputs": [
    {
     "data": {
      "text/plain": [
       "17"
      ]
     },
     "execution_count": 93,
     "metadata": {},
     "output_type": "execute_result"
    }
   ],
   "source": [
    "f.write(\"Hello and welcome\")"
   ]
  },
  {
   "cell_type": "code",
   "execution_count": 94,
   "id": "85259192",
   "metadata": {},
   "outputs": [],
   "source": [
    "f.close()"
   ]
  },
  {
   "cell_type": "code",
   "execution_count": 99,
   "id": "458a0c30",
   "metadata": {},
   "outputs": [],
   "source": [
    "f=open(\"file_new.txt\",'r+')"
   ]
  },
  {
   "cell_type": "code",
   "execution_count": 100,
   "id": "d195cb62",
   "metadata": {},
   "outputs": [
    {
     "data": {
      "text/plain": [
       "'Hello and welcome'"
      ]
     },
     "execution_count": 100,
     "metadata": {},
     "output_type": "execute_result"
    }
   ],
   "source": [
    "f.read()"
   ]
  },
  {
   "cell_type": "code",
   "execution_count": 101,
   "id": "da0fe412",
   "metadata": {},
   "outputs": [
    {
     "data": {
      "text/plain": [
       "5"
      ]
     },
     "execution_count": 101,
     "metadata": {},
     "output_type": "execute_result"
    }
   ],
   "source": [
    "f.write(\"Hiiii\")"
   ]
  },
  {
   "cell_type": "code",
   "execution_count": 102,
   "id": "ad36af07",
   "metadata": {},
   "outputs": [],
   "source": [
    "f.close()"
   ]
  },
  {
   "cell_type": "code",
   "execution_count": null,
   "id": "40e88d12",
   "metadata": {},
   "outputs": [],
   "source": []
  },
  {
   "cell_type": "code",
   "execution_count": 105,
   "id": "075a628a",
   "metadata": {},
   "outputs": [],
   "source": [
    "with open('text.txt','w') as f:\n",
    "    f.writelines(\"Welcome to pune\\nI am Happy\")"
   ]
  },
  {
   "cell_type": "code",
   "execution_count": 118,
   "id": "556696a9",
   "metadata": {},
   "outputs": [],
   "source": [
    "f=open(\"text.txt\",\"a\")"
   ]
  },
  {
   "cell_type": "code",
   "execution_count": 119,
   "id": "8c169ef9",
   "metadata": {},
   "outputs": [
    {
     "data": {
      "text/plain": [
       "12"
      ]
     },
     "execution_count": 119,
     "metadata": {},
     "output_type": "execute_result"
    }
   ],
   "source": [
    "f.write(\"This is test\")"
   ]
  },
  {
   "cell_type": "code",
   "execution_count": null,
   "id": "d5e34951",
   "metadata": {},
   "outputs": [],
   "source": []
  },
  {
   "cell_type": "code",
   "execution_count": 120,
   "id": "3f795ee1",
   "metadata": {},
   "outputs": [
    {
     "ename": "NameError",
     "evalue": "name 'read' is not defined",
     "output_type": "error",
     "traceback": [
      "\u001b[1;31m---------------------------------------------------------------------------\u001b[0m",
      "\u001b[1;31mNameError\u001b[0m                                 Traceback (most recent call last)",
      "Input \u001b[1;32mIn [120]\u001b[0m, in \u001b[0;36m<cell line: 1>\u001b[1;34m()\u001b[0m\n\u001b[1;32m----> 1\u001b[0m f\u001b[38;5;241m=\u001b[39m\u001b[43mread\u001b[49m(txt\u001b[38;5;241m.\u001b[39mtxt)\n",
      "\u001b[1;31mNameError\u001b[0m: name 'read' is not defined"
     ]
    }
   ],
   "source": [
    "f=read(txt.txt)"
   ]
  },
  {
   "cell_type": "code",
   "execution_count": 121,
   "id": "e3cbee44",
   "metadata": {},
   "outputs": [],
   "source": [
    "#cursor Position"
   ]
  },
  {
   "cell_type": "code",
   "execution_count": 124,
   "id": "f3ef07e8",
   "metadata": {},
   "outputs": [],
   "source": [
    "f=open(\"file_data.txt\")"
   ]
  },
  {
   "cell_type": "code",
   "execution_count": 134,
   "id": "24f70ced",
   "metadata": {},
   "outputs": [
    {
     "data": {
      "text/plain": [
       "10"
      ]
     },
     "execution_count": 134,
     "metadata": {},
     "output_type": "execute_result"
    }
   ],
   "source": [
    "f.tell()"
   ]
  },
  {
   "cell_type": "code",
   "execution_count": 129,
   "id": "7edb1ec6",
   "metadata": {},
   "outputs": [
    {
     "data": {
      "text/plain": [
       "'The only main pathway to the fort passes through the \"Maha Darwaja\" (Huge Door) which was previously closed at sunset. The Maha Darwaja has two huge bastions on both sides of the door which are approximately 65â€“70 feet in height. The top of the fort is 600 ft above this door.\\n'"
      ]
     },
     "execution_count": 129,
     "metadata": {},
     "output_type": "execute_result"
    }
   ],
   "source": [
    "f.readline()"
   ]
  },
  {
   "cell_type": "code",
   "execution_count": 133,
   "id": "08ced0bb",
   "metadata": {},
   "outputs": [
    {
     "data": {
      "text/plain": [
       "10"
      ]
     },
     "execution_count": 133,
     "metadata": {},
     "output_type": "execute_result"
    }
   ],
   "source": [
    "f.seek(10)"
   ]
  },
  {
   "cell_type": "code",
   "execution_count": null,
   "id": "c5fe843a",
   "metadata": {},
   "outputs": [],
   "source": []
  }
 ],
 "metadata": {
  "kernelspec": {
   "display_name": "Python 3 (ipykernel)",
   "language": "python",
   "name": "python3"
  },
  "language_info": {
   "codemirror_mode": {
    "name": "ipython",
    "version": 3
   },
   "file_extension": ".py",
   "mimetype": "text/x-python",
   "name": "python",
   "nbconvert_exporter": "python",
   "pygments_lexer": "ipython3",
   "version": "3.9.12"
  }
 },
 "nbformat": 4,
 "nbformat_minor": 5
}
